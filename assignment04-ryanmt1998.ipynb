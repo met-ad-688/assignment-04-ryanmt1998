{
  "cells": [
    {
      "cell_type": "raw",
      "metadata": {},
      "source": [
        "---\n",
        "title: Assignment 04\n",
        "subtitle: \"Regression Analysis in Pyspark\"\n",
        "author:\n",
        "  - name: Ryan Martin\n",
        "    affiliations:\n",
        "      - id: bu\n",
        "        name: Boston University\n",
        "        city: Boston\n",
        "        state: MA\n",
        "number-sections: true\n",
        "date: '2025-10-8'\n",
        "date-modified: today\n",
        "date-format: long\n",
        "format:\n",
        "  html:\n",
        "    theme: cerulean\n",
        "    toc: true\n",
        "    toc-depth: 2\n",
        "\n",
        "execute:\n",
        "  echo: false\n",
        "  eval: false\n",
        "  freeze: auto\n",
        "---"
      ]
    },
    {
      "cell_type": "markdown",
      "metadata": {},
      "source": [
        "# Load the Dataset"
      ]
    },
    {
      "cell_type": "code",
      "execution_count": 59,
      "metadata": {},
      "outputs": [
        {
          "name": "stderr",
          "output_type": "stream",
          "text": [
            "                                                                                \r"
          ]
        },
        {
          "name": "stdout",
          "output_type": "stream",
          "text": [
            "---This is Diagnostic check, No need to print it in the final doc---\n",
            "+--------------------+-----------------+----------------------+----------+--------+---------+--------+--------------------+--------------------+--------------------+-----------+-------------------+--------------------+--------------------+---------------+----------------+--------+--------------------+-----------+-------------------+----------------+---------------------+-------------+-------------------+-------------+------------------+---------------+--------------------+--------------------+--------------------+-------------+------+-----------+----------------+-------------------+---------+-----------+--------------------+--------------------+-------------+------+--------------+-----+--------------------+-----+----------+---------------+--------------------+---------------+--------------------+------------+--------------------+------------+--------------------+------+--------------------+------+--------------------+------+--------------------+------+--------------------+------+--------------------+------------------+-------------------+--------------------+--------------------+--------------------+--------------------+-----------------------+--------------------+--------------------+--------------------+--------------------+--------------------+--------------------+----------+--------------------+----------+--------------------+--------------------+--------------------+--------------------+--------------------+--------------------+--------------------+----------+--------------------+----------+--------------------+----------+---------------+----------+---------------+---------------+--------------------+--------------+--------------------+--------------------------+-------------------------------+--------------------+-------------------------+-----------------------------+----------------------------------+-----------------+----------------------+-----------------------+----------------------------+------------------+-----------------------+-------+--------------------+-------+--------------------+-------+---------------+-------+---------------+-----------------+----------------------+------------+--------------------+------------+--------------------+------------+--------------------+------------+--------------------+------------+--------------------+\n",
            "|                  ID|LAST_UPDATED_DATE|LAST_UPDATED_TIMESTAMP|DUPLICATES|  POSTED|  EXPIRED|DURATION|        SOURCE_TYPES|             SOURCES|                 URL|ACTIVE_URLS|ACTIVE_SOURCES_INFO|           TITLE_RAW|                BODY|MODELED_EXPIRED|MODELED_DURATION| COMPANY|        COMPANY_NAME|COMPANY_RAW|COMPANY_IS_STAFFING|EDUCATION_LEVELS|EDUCATION_LEVELS_NAME|MIN_EDULEVELS| MIN_EDULEVELS_NAME|MAX_EDULEVELS|MAX_EDULEVELS_NAME|EMPLOYMENT_TYPE|EMPLOYMENT_TYPE_NAME|MIN_YEARS_EXPERIENCE|MAX_YEARS_EXPERIENCE|IS_INTERNSHIP|SALARY|REMOTE_TYPE|REMOTE_TYPE_NAME|ORIGINAL_PAY_PERIOD|SALARY_TO|SALARY_FROM|            LOCATION|                CITY|    CITY_NAME|COUNTY|   COUNTY_NAME|  MSA|            MSA_NAME|STATE|STATE_NAME|COUNTY_OUTGOING|COUNTY_NAME_OUTGOING|COUNTY_INCOMING|COUNTY_NAME_INCOMING|MSA_OUTGOING|   MSA_NAME_OUTGOING|MSA_INCOMING|   MSA_NAME_INCOMING|NAICS2|         NAICS2_NAME|NAICS3|         NAICS3_NAME|NAICS4|         NAICS4_NAME|NAICS5|         NAICS5_NAME|NAICS6|         NAICS6_NAME|             TITLE|         TITLE_NAME|         TITLE_CLEAN|              SKILLS|         SKILLS_NAME|  SPECIALIZED_SKILLS|SPECIALIZED_SKILLS_NAME|      CERTIFICATIONS| CERTIFICATIONS_NAME|       COMMON_SKILLS|  COMMON_SKILLS_NAME|     SOFTWARE_SKILLS|SOFTWARE_SKILLS_NAME|      ONET|           ONET_NAME| ONET_2019|      ONET_2019_NAME|                CIP6|           CIP6_NAME|                CIP4|           CIP4_NAME|                CIP2|           CIP2_NAME|SOC_2021_2|     SOC_2021_2_NAME|SOC_2021_3|     SOC_2021_3_NAME|SOC_2021_4|SOC_2021_4_NAME|SOC_2021_5|SOC_2021_5_NAME|LOT_CAREER_AREA|LOT_CAREER_AREA_NAME|LOT_OCCUPATION| LOT_OCCUPATION_NAME|LOT_SPECIALIZED_OCCUPATION|LOT_SPECIALIZED_OCCUPATION_NAME|LOT_OCCUPATION_GROUP|LOT_OCCUPATION_GROUP_NAME|LOT_V6_SPECIALIZED_OCCUPATION|LOT_V6_SPECIALIZED_OCCUPATION_NAME|LOT_V6_OCCUPATION|LOT_V6_OCCUPATION_NAME|LOT_V6_OCCUPATION_GROUP|LOT_V6_OCCUPATION_GROUP_NAME|LOT_V6_CAREER_AREA|LOT_V6_CAREER_AREA_NAME|  SOC_2|          SOC_2_NAME|  SOC_3|          SOC_3_NAME|  SOC_4|     SOC_4_NAME|  SOC_5|     SOC_5_NAME|LIGHTCAST_SECTORS|LIGHTCAST_SECTORS_NAME|NAICS_2022_2|   NAICS_2022_2_NAME|NAICS_2022_3|   NAICS_2022_3_NAME|NAICS_2022_4|   NAICS_2022_4_NAME|NAICS_2022_5|   NAICS_2022_5_NAME|NAICS_2022_6|   NAICS_2022_6_NAME|\n",
            "+--------------------+-----------------+----------------------+----------+--------+---------+--------+--------------------+--------------------+--------------------+-----------+-------------------+--------------------+--------------------+---------------+----------------+--------+--------------------+-----------+-------------------+----------------+---------------------+-------------+-------------------+-------------+------------------+---------------+--------------------+--------------------+--------------------+-------------+------+-----------+----------------+-------------------+---------+-----------+--------------------+--------------------+-------------+------+--------------+-----+--------------------+-----+----------+---------------+--------------------+---------------+--------------------+------------+--------------------+------------+--------------------+------+--------------------+------+--------------------+------+--------------------+------+--------------------+------+--------------------+------------------+-------------------+--------------------+--------------------+--------------------+--------------------+-----------------------+--------------------+--------------------+--------------------+--------------------+--------------------+--------------------+----------+--------------------+----------+--------------------+--------------------+--------------------+--------------------+--------------------+--------------------+--------------------+----------+--------------------+----------+--------------------+----------+---------------+----------+---------------+---------------+--------------------+--------------+--------------------+--------------------------+-------------------------------+--------------------+-------------------------+-----------------------------+----------------------------------+-----------------+----------------------+-----------------------+----------------------------+------------------+-----------------------+-------+--------------------+-------+--------------------+-------+---------------+-------+---------------+-----------------+----------------------+------------+--------------------+------------+--------------------+------------+--------------------+------------+--------------------+------------+--------------------+\n",
            "|1f57d95acf4dc67ed...|         9/6/2024|  2024-09-06 20:32:...|         0|6/2/2024| 6/8/2024|       6|   [\\n  \"Company\"\\n]|[\\n  \"brassring.c...|[\\n  \"https://sjo...|         []|               NULL|Enterprise Analys...|31-May-2024\\n\\nEn...|       6/8/2024|               6|  894731|          Murphy USA| Murphy USA|              false|       [\\n  2\\n]| [\\n  \"Bachelor's ...|            2|  Bachelor's degree|         NULL|              NULL|              1|Full-time (> 32 h...|                   2|                   2|        false|  NULL|          0|          [None]|               NULL|     NULL|       NULL|{\\n  \"lat\": 33.20...|RWwgRG9yYWRvLCBBUg==|El Dorado, AR|  5139|     Union, AR|20980|       El Dorado, AR|    5|  Arkansas|           5139|           Union, AR|           5139|           Union, AR|       20980|       El Dorado, AR|       20980|       El Dorado, AR|    44|        Retail Trade|   441|Motor Vehicle and...|  4413|Automotive Parts,...| 44133|Automotive Parts ...|441330|Automotive Parts ...|ET29C073C03D1F86B4|Enterprise Analysts|enterprise analys...|[\\n  \"KS126DB6T06...|[\\n  \"Merchandisi...|[\\n  \"KS126DB6T06...|   [\\n  \"Merchandisi...|                  []|                  []|[\\n  \"KS126706DPF...|[\\n  \"Mathematics...|[\\n  \"KS440W865GC...|[\\n  \"SQL (Progra...|15-2051.01|Business Intellig...|15-2051.01|Business Intellig...|[\\n  \"45.0601\",\\n...|[\\n  \"Economics, ...|[\\n  \"45.06\",\\n  ...|[\\n  \"Economics\",...|[\\n  \"45\",\\n  \"27...|[\\n  \"Social Scie...|   15-0000|Computer and Math...|   15-2000|Mathematical Scie...|   15-2050|Data Scientists|   15-2051|Data Scientists|             23|Information Techn...|        231010|Business Intellig...|                  23101011|           General ERP Analy...|                2310|     Business Intellig...|                     23101011|              General ERP Analy...|           231010|  Business Intellig...|                   2310|        Business Intellig...|                23|   Information Techn...|15-0000|Computer and Math...|15-2000|Mathematical Scie...|15-2050|Data Scientists|15-2051|Data Scientists|        [\\n  7\\n]|  [\\n  \"Artificial ...|          44|        Retail Trade|         441|Motor Vehicle and...|        4413|Automotive Parts,...|       44133|Automotive Parts ...|      441330|Automotive Parts ...|\n",
            "|0cb072af26757b6c4...|         8/2/2024|  2024-08-02 17:08:...|         0|6/2/2024| 8/1/2024|    NULL| [\\n  \"Job Board\"\\n]| [\\n  \"maine.gov\"\\n]|[\\n  \"https://job...|         []|               NULL|Oracle Consultant...|Oracle Consultant...|       8/1/2024|            NULL|  133098|Smx Corporation L...|        SMX|               true|      [\\n  99\\n]| [\\n  \"No Educatio...|           99|No Education Listed|         NULL|              NULL|              1|Full-time (> 32 h...|                   3|                   3|        false|  NULL|          1|          Remote|               NULL|     NULL|       NULL|{\\n  \"lat\": 44.31...|    QXVndXN0YSwgTUU=|  Augusta, ME| 23011|  Kennebec, ME|12300|Augusta-Watervill...|   23|     Maine|          23011|        Kennebec, ME|          23011|        Kennebec, ME|       12300|Augusta-Watervill...|       12300|Augusta-Watervill...|    56|Administrative an...|   561|Administrative an...|  5613| Employment Services| 56132|Temporary Help Se...|561320|Temporary Help Se...|ET21DDA63780A7DC09| Oracle Consultants|oracle consultant...|[\\n  \"KS122626T55...|[\\n  \"Procurement...|[\\n  \"KS122626T55...|   [\\n  \"Procurement...|                  []|                  []|                  []|                  []|[\\n  \"BGSBF3F508F...|[\\n  \"Oracle Busi...|15-2051.01|Business Intellig...|15-2051.01|Business Intellig...|                  []|                  []|                  []|                  []|                  []|                  []|   15-0000|Computer and Math...|   15-2000|Mathematical Scie...|   15-2050|Data Scientists|   15-2051|Data Scientists|             23|Information Techn...|        231010|Business Intellig...|                  23101012|           Oracle Consultant...|                2310|     Business Intellig...|                     23101012|              Oracle Consultant...|           231010|  Business Intellig...|                   2310|        Business Intellig...|                23|   Information Techn...|15-0000|Computer and Math...|15-2000|Mathematical Scie...|15-2050|Data Scientists|15-2051|Data Scientists|             NULL|                  NULL|          56|Administrative an...|         561|Administrative an...|        5613| Employment Services|       56132|Temporary Help Se...|      561320|Temporary Help Se...|\n",
            "|85318b12b3331fa49...|         9/6/2024|  2024-09-06 20:32:...|         1|6/2/2024| 7/7/2024|      35| [\\n  \"Job Board\"\\n]|[\\n  \"dejobs.org\"\\n]|[\\n  \"https://dej...|         []|               NULL|        Data Analyst|Taking care of pe...|      6/10/2024|               8|39063746|            Sedgwick|   Sedgwick|              false|       [\\n  2\\n]| [\\n  \"Bachelor's ...|            2|  Bachelor's degree|         NULL|              NULL|              1|Full-time (> 32 h...|                   5|                NULL|        false|  NULL|          0|          [None]|               NULL|     NULL|       NULL|{\\n  \"lat\": 32.77...|    RGFsbGFzLCBUWA==|   Dallas, TX| 48113|    Dallas, TX|19100|Dallas-Fort Worth...|   48|     Texas|          48113|          Dallas, TX|          48113|          Dallas, TX|       19100|Dallas-Fort Worth...|       19100|Dallas-Fort Worth...|    52|Finance and Insur...|   524|Insurance Carrier...|  5242|Agencies, Brokera...| 52429|Other Insurance R...|524291|    Claims Adjusting|ET3037E0C947A02404|      Data Analysts|        data analyst|[\\n  \"KS1218W78FG...|[\\n  \"Management\"...|[\\n  \"ESF3939CE1F...|   [\\n  \"Exception R...|[\\n  \"KS683TN76T7...|[\\n  \"Security Cl...|[\\n  \"KS1218W78FG...|[\\n  \"Management\"...|[\\n  \"KS126HY6YLT...|[\\n  \"Microsoft O...|15-2051.01|Business Intellig...|15-2051.01|Business Intellig...|                  []|                  []|                  []|                  []|                  []|                  []|   15-0000|Computer and Math...|   15-2000|Mathematical Scie...|   15-2050|Data Scientists|   15-2051|Data Scientists|             23|Information Techn...|        231113|Data / Data Minin...|                  23111310|                   Data Analyst|                2311|     Data Analysis and...|                     23111310|                      Data Analyst|           231113|  Data / Data Minin...|                   2311|        Data Analysis and...|                23|   Information Techn...|15-0000|Computer and Math...|15-2000|Mathematical Scie...|15-2050|Data Scientists|15-2051|Data Scientists|             NULL|                  NULL|          52|Finance and Insur...|         524|Insurance Carrier...|        5242|Agencies, Brokera...|       52429|Other Insurance R...|      524291|    Claims Adjusting|\n",
            "|1b5c3941e54a1889e...|         9/6/2024|  2024-09-06 20:32:...|         1|6/2/2024|7/20/2024|      48| [\\n  \"Job Board\"\\n]|[\\n  \"disabledper...|[\\n  \"https://www...|         []|               NULL|Sr. Lead Data Mgm...|About this role:\\...|      6/12/2024|              10|37615159|         Wells Fargo|Wells Fargo|              false|      [\\n  99\\n]| [\\n  \"No Educatio...|           99|No Education Listed|         NULL|              NULL|              1|Full-time (> 32 h...|                   3|                NULL|        false|  NULL|          0|          [None]|               NULL|     NULL|       NULL|{\\n  \"lat\": 33.44...|    UGhvZW5peCwgQVo=|  Phoenix, AZ|  4013|  Maricopa, AZ|38060|Phoenix-Mesa-Chan...|    4|   Arizona|           4013|        Maricopa, AZ|           4013|        Maricopa, AZ|       38060|Phoenix-Mesa-Chan...|       38060|Phoenix-Mesa-Chan...|    52|Finance and Insur...|   522|Credit Intermedia...|  5221|Depository Credit...| 52211|  Commercial Banking|522110|  Commercial Banking|ET2114E0404BA30075|Management Analysts|sr lead data mgmt...|[\\n  \"KS123QX62QY...|[\\n  \"Exit Strate...|[\\n  \"KS123QX62QY...|   [\\n  \"Exit Strate...|                  []|                  []|[\\n  \"KS7G6NP6R6L...|[\\n  \"Reliability...|[\\n  \"KS4409D76NW...|[\\n  \"SAS (Softwa...|15-2051.01|Business Intellig...|15-2051.01|Business Intellig...|                  []|                  []|                  []|                  []|                  []|                  []|   15-0000|Computer and Math...|   15-2000|Mathematical Scie...|   15-2050|Data Scientists|   15-2051|Data Scientists|             23|Information Techn...|        231113|Data / Data Minin...|                  23111310|                   Data Analyst|                2311|     Data Analysis and...|                     23111310|                      Data Analyst|           231113|  Data / Data Minin...|                   2311|        Data Analysis and...|                23|   Information Techn...|15-0000|Computer and Math...|15-2000|Mathematical Scie...|15-2050|Data Scientists|15-2051|Data Scientists|        [\\n  6\\n]|  [\\n  \"Data Privac...|          52|Finance and Insur...|         522|Credit Intermedia...|        5221|Depository Credit...|       52211|  Commercial Banking|      522110|  Commercial Banking|\n",
            "|cb5ca25f02bdf25c1...|        6/19/2024|   2024-06-19 07:00:00|         0|6/2/2024|6/17/2024|      15|[\\n  \"FreeJobBoar...|[\\n  \"craigslist....|[\\n  \"https://mod...|         []|               NULL|Comisiones de $10...|Comisiones de $10...|      6/17/2024|              15|       0|        Unclassified|      LH/GM|              false|      [\\n  99\\n]| [\\n  \"No Educatio...|           99|No Education Listed|         NULL|              NULL|              3|Part-time / full-...|                NULL|                NULL|        false| 92500|          0|          [None]|               year|   150000|      35000|{\\n  \"lat\": 37.63...|    TW9kZXN0bywgQ0E=|  Modesto, CA|  6099|Stanislaus, CA|33700|         Modesto, CA|    6|California|           6099|      Stanislaus, CA|           6099|      Stanislaus, CA|       33700|         Modesto, CA|       33700|         Modesto, CA|    99|Unclassified Indu...|   999|Unclassified Indu...|  9999|Unclassified Indu...| 99999|Unclassified Indu...|999999|Unclassified Indu...|ET0000000000000000|       Unclassified|comisiones de por...|                  []|                  []|                  []|                     []|                  []|                  []|                  []|                  []|                  []|                  []|15-2051.01|Business Intellig...|15-2051.01|Business Intellig...|                  []|                  []|                  []|                  []|                  []|                  []|   15-0000|Computer and Math...|   15-2000|Mathematical Scie...|   15-2050|Data Scientists|   15-2051|Data Scientists|             23|Information Techn...|        231010|Business Intellig...|                  23101012|           Oracle Consultant...|                2310|     Business Intellig...|                     23101012|              Oracle Consultant...|           231010|  Business Intellig...|                   2310|        Business Intellig...|                23|   Information Techn...|15-0000|Computer and Math...|15-2000|Mathematical Scie...|15-2050|Data Scientists|15-2051|Data Scientists|             NULL|                  NULL|          99|Unclassified Indu...|         999|Unclassified Indu...|        9999|Unclassified Indu...|       99999|Unclassified Indu...|      999999|Unclassified Indu...|\n",
            "+--------------------+-----------------+----------------------+----------+--------+---------+--------+--------------------+--------------------+--------------------+-----------+-------------------+--------------------+--------------------+---------------+----------------+--------+--------------------+-----------+-------------------+----------------+---------------------+-------------+-------------------+-------------+------------------+---------------+--------------------+--------------------+--------------------+-------------+------+-----------+----------------+-------------------+---------+-----------+--------------------+--------------------+-------------+------+--------------+-----+--------------------+-----+----------+---------------+--------------------+---------------+--------------------+------------+--------------------+------------+--------------------+------+--------------------+------+--------------------+------+--------------------+------+--------------------+------+--------------------+------------------+-------------------+--------------------+--------------------+--------------------+--------------------+-----------------------+--------------------+--------------------+--------------------+--------------------+--------------------+--------------------+----------+--------------------+----------+--------------------+--------------------+--------------------+--------------------+--------------------+--------------------+--------------------+----------+--------------------+----------+--------------------+----------+---------------+----------+---------------+---------------+--------------------+--------------+--------------------+--------------------------+-------------------------------+--------------------+-------------------------+-----------------------------+----------------------------------+-----------------+----------------------+-----------------------+----------------------------+------------------+-----------------------+-------+--------------------+-------+--------------------+-------+---------------+-------+---------------+-----------------+----------------------+------------+--------------------+------------+--------------------+------------+--------------------+------------+--------------------+------------+--------------------+\n",
            "only showing top 5 rows\n"
          ]
        },
        {
          "name": "stderr",
          "output_type": "stream",
          "text": [
            "[Stage 45:>                                                         (0 + 1) / 1]\r"
          ]
        },
        {
          "name": "stdout",
          "output_type": "stream",
          "text": [
            "(72498, 131)\n"
          ]
        },
        {
          "name": "stderr",
          "output_type": "stream",
          "text": [
            "                                                                                \r"
          ]
        }
      ],
      "source": [
        "from pyspark.sql import SparkSession\n",
        "import pandas as pd\n",
        "import plotly.express as px\n",
        "import plotly.io as pio\n",
        "import numpy as np\n",
        "\n",
        "np.random.seed(42)\n",
        "\n",
        "pio.renderers.default = \"notebook+notebook_connected+vscode\"\n",
        "\n",
        "# Initialize Spark Session\n",
        "spark = SparkSession.builder.appName(\"LightcastData\").getOrCreate()\n",
        "\n",
        "# Load Data\n",
        "df = spark.read.option(\"header\", \"true\").option(\"inferSchema\", \"true\").option(\"multiLine\",\"true\").option(\"escape\", \"\\\"\").csv(\"./data/lightcast_job_postings.csv\")\n",
        "\n",
        "# Show Schema and Sample Data\n",
        "print(\"---This is Diagnostic check, No need to print it in the final doc---\")\n",
        "\n",
        "# df.printSchema() # comment this line when rendering the submission\n",
        "df.show(5)\n",
        "print((df.count(), len(df.columns)))\n"
      ]
    },
    {
      "cell_type": "markdown",
      "metadata": {},
      "source": [
        "# Feature Engineering"
      ]
    },
    {
      "cell_type": "code",
      "execution_count": 75,
      "metadata": {},
      "outputs": [],
      "source": [
        "#|eval: true\n",
        "#|echo: false\n",
        "#| fig-align: center\n",
        "\n",
        "\n",
        "from pyspark.sql.functions import col, pow, when\n",
        "from pyspark.ml.feature import StringIndexer, VectorAssembler, OneHotEncoder\n",
        "from pyspark.ml import Pipeline\n",
        "from pyspark.sql.types import IntegerType, BooleanType, StringType\n",
        "\n",
        "\n",
        "\n",
        "# Drop rows with NA values in relevant columns\n",
        "df_feature_eng = df.dropna(subset=[\"SALARY\", \"MIN_YEARS_EXPERIENCE\", \"STATE_NAME\", \"EMPLOYMENT_TYPE_NAME\", \"REMOTE_TYPE_NAME\", \"MIN_EDULEVELS_NAME\", \"DURATION\", \"IS_INTERNSHIP\", \"COMPANY_IS_STAFFING\"])\n",
        "\n",
        "\n",
        "\n",
        "\n",
        "eda_cols = [\"SALARY\", \"MIN_YEARS_EXPERIENCE\", \"DURATION\", \"COMPANY_IS_STAFFING\", \"IS_INTERNSHIP\", \"STATE_NAME\", \"REMOTE_TYPE_NAME\", \"EMPLOYMENT_TYPE_NAME\", \"MIN_EDULEVELS_NAME\"]\n",
        "\n",
        "\n",
        "df_feature_eng = df_feature_eng.select(eda_cols)\n",
        "\n",
        "\n",
        "#Clean categorical variable REMOTE_TYPE_NAME\n",
        "df_feature_eng = df_feature_eng.withColumn(\n",
        "    \"REMOTE_TYPE_NAME\",\n",
        "    when(col(\"REMOTE_TYPE_NAME\") == \"Remote\", \"Remote\")\n",
        "    .when(col(\"REMOTE_TYPE_NAME\") == \"[None]\", \"Undefined\")\n",
        "    .when(col(\"REMOTE_TYPE_NAME\") == \"Not Remote\", \"On Premise\")\n",
        "    .when(col(\"REMOTE_TYPE_NAME\") == \"Hybrid Remote\", \"Hybrid\")\n",
        "    .when(col(\"REMOTE_TYPE_NAME\").isNull(), \"On Premise\")\n",
        "    .otherwise(col(\"REMOTE_TYPE_NAME\"))\n",
        ")\n",
        "\n",
        "\n",
        "\n",
        "#Clean categorical variable EMPLOYMENT_TYPE_NAME\n",
        "df_feature_eng = df_feature_eng.withColumn(\n",
        "    \"EMPLOYMENT_TYPE_NAME\",\n",
        "    when(col(\"EMPLOYMENT_TYPE_NAME\") == \"Part-time / full-time\", \"Flexible\")\n",
        "    .when(col(\"EMPLOYMENT_TYPE_NAME\") == \"Part-time (â‰¤ 32 hours)\", \"Parttime\")\n",
        "    .when(col(\"EMPLOYMENT_TYPE_NAME\") == \"Full-time (> 32 hours)\", \"Fulltime\")\n",
        "    .when(col(\"EMPLOYMENT_TYPE_NAME\").isNull(), \"Fulltime\")\n",
        "    .otherwise(col(\"EMPLOYMENT_TYPE_NAME\"))\n",
        ")\n",
        "\n",
        "\n",
        "# Categorical columns\n",
        "categorical_cols = [\"EMPLOYMENT_TYPE_NAME\", \"REMOTE_TYPE_NAME\"]\n",
        "\n",
        "# continuous columns\n",
        "continuous_cols = [\"MIN_YEARS_EXPERIENCE\", \"DURATION\", \"IS_INTERNSHIP\", \"COMPANY_IS_STAFFING\"]\n",
        "\n",
        "# Setup pipeline stages for indexing and encoding categorical columns\n",
        "indexers = [StringIndexer(inputCol=col, outputCol=f\"{col}_Idx\", handleInvalid=\"skip\") for col in categorical_cols]\n",
        "encoders = [OneHotEncoder(inputCol=f\"{col}_Idx\", outputCol=f\"{col}_vec\") for col in categorical_cols]\n"
      ]
    },
    {
      "cell_type": "code",
      "execution_count": 76,
      "metadata": {},
      "outputs": [
        {
          "name": "stderr",
          "output_type": "stream",
          "text": [
            "                                                                                \r"
          ]
        },
        {
          "name": "stdout",
          "output_type": "stream",
          "text": [
            "+------+--------------------------------------+-------------------------------------------+\n",
            "|SALARY|features                              |features_poly                              |\n",
            "+------+--------------------------------------+-------------------------------------------+\n",
            "|192800|(9,[0,1,4,6],[6.0,55.0,1.0,1.0])      |(10,[0,1,2,5,7],[6.0,36.0,55.0,1.0,1.0])   |\n",
            "|125900|(9,[0,1,4,6],[12.0,18.0,1.0,1.0])     |(10,[0,1,2,5,7],[12.0,144.0,18.0,1.0,1.0]) |\n",
            "|118560|[5.0,20.0,0.0,1.0,1.0,0.0,0.0,1.0,0.0]|[5.0,25.0,20.0,0.0,1.0,1.0,0.0,0.0,1.0,0.0]|\n",
            "|192800|(9,[0,1,4,6],[6.0,55.0,1.0,1.0])      |(10,[0,1,2,5,7],[6.0,36.0,55.0,1.0,1.0])   |\n",
            "|116500|(9,[0,1,4,6],[12.0,16.0,1.0,1.0])     |(10,[0,1,2,5,7],[12.0,144.0,16.0,1.0,1.0]) |\n",
            "+------+--------------------------------------+-------------------------------------------+\n",
            "only showing top 5 rows\n"
          ]
        }
      ],
      "source": [
        "assembler = VectorAssembler(\n",
        "inputCols=[\"MIN_YEARS_EXPERIENCE\", \"DURATION\", \"IS_INTERNSHIP\", \"COMPANY_IS_STAFFING\"] + [f\"{col}_vec\" for col in categorical_cols], outputCol=\"features\"\n",
        ")\n",
        "\n",
        "\n",
        "# Build Pipeline and Transform\n",
        "pipeline = Pipeline(stages=indexers + encoders + [assembler])\n",
        "data = pipeline.fit(df_feature_eng).transform(df_feature_eng)\n",
        "\n",
        "\n",
        "# Create squared term for Polynomial Regression\n",
        "data = data.withColumn(\"MIN_YEARS_EXPERIENCE_SQ\", pow(col(\"MIN_YEARS_EXPERIENCE\"), 2))\n",
        "\n",
        "# Assemble Polynomial Features\n",
        "assembler_poly = VectorAssembler(\n",
        "inputCols=[ \"MIN_YEARS_EXPERIENCE\", \"MIN_YEARS_EXPERIENCE_SQ\", \"DURATION\", \"IS_INTERNSHIP\", \"COMPANY_IS_STAFFING\"] + [f\"{col}_vec\" for col in categorical_cols], outputCol=\"features_poly\"\n",
        ")\n",
        "data = assembler_poly.transform(data)\n",
        "\n",
        "\n",
        "# Split Data\n",
        "regression_train, regression_test = data.randomSplit([0.8, 0.2], seed=42)\n",
        "\n",
        "\n",
        "# Show final structure\n",
        "data.select(\"SALARY\", \"features\", \"features_poly\").show(5, truncate=False)"
      ]
    },
    {
      "cell_type": "markdown",
      "metadata": {},
      "source": [
        "# Linear Regression"
      ]
    },
    {
      "cell_type": "code",
      "execution_count": 77,
      "metadata": {},
      "outputs": [
        {
          "name": "stderr",
          "output_type": "stream",
          "text": [
            "25/10/03 18:16:33 WARN Instrumentation: [17625612] regParam is zero, which might cause numerical instability and overfitting.\n",
            "                                                                                \r"
          ]
        }
      ],
      "source": [
        "from pyspark.ml.regression import LinearRegression\n",
        "\n",
        "# Creating Linear Regression Model\n",
        "lr = LinearRegression(featuresCol=\"features\", labelCol=\"SALARY\")\n",
        "\n",
        "# training the model\n",
        "lr_model = lr.fit(regression_train)"
      ]
    },
    {
      "cell_type": "code",
      "execution_count": 78,
      "metadata": {},
      "outputs": [
        {
          "name": "stderr",
          "output_type": "stream",
          "text": [
            "[Stage 88:>                                                         (0 + 1) / 1]\r"
          ]
        },
        {
          "name": "stdout",
          "output_type": "stream",
          "text": [
            "R²: 0.27747505372039105\n",
            "RMSE: 35354.21968106297\n",
            "MAE: 27394.263039528487\n",
            "Coefficients: [6831.19516740728,-16.944672967567364,-8335.0742639915,455.51244715909286,-1261.5274637185041,-3264.749623577828,7407.370489759505,8150.657530209268,22412.845022831403]\n",
            "Intercept: 76301.15556556016\n"
          ]
        },
        {
          "name": "stderr",
          "output_type": "stream",
          "text": [
            "                                                                                \r"
          ]
        }
      ],
      "source": [
        "# Making predictions\n",
        "predictions = lr_model.transform(regression_test)\n",
        "\n",
        "# Evaluate the model\n",
        "from pyspark.ml.evaluation import RegressionEvaluator\n",
        "\n",
        "evaluator_r2 = RegressionEvaluator(labelCol=\"SALARY\", predictionCol=\"prediction\", metricName=\"r2\")\n",
        "evaluator_rmse = RegressionEvaluator(labelCol=\"SALARY\", predictionCol=\"prediction\", metricName=\"rmse\")\n",
        "evaluator_mae = RegressionEvaluator(labelCol=\"SALARY\", predictionCol=\"prediction\", metricName=\"mae\")\n",
        "\n",
        "r2 = evaluator_r2.evaluate(predictions)\n",
        "rmse = evaluator_rmse.evaluate(predictions)\n",
        "mae = evaluator_mae.evaluate(predictions)\n",
        "\n",
        "print(f\"R²: {r2}\")\n",
        "print(f\"RMSE: {rmse}\")\n",
        "print(f\"MAE: {mae}\")    \n",
        "\n",
        "# Print coefficients and intercept\n",
        "print(\"Coefficients:\", lr_model.coefficients)\n",
        "print(\"Intercept:\", lr_model.intercept)\n"
      ]
    },
    {
      "cell_type": "code",
      "execution_count": 79,
      "metadata": {},
      "outputs": [
        {
          "name": "stdout",
          "output_type": "stream",
          "text": [
            "     Feature   Coefficient    Std Error    t-value       p-value  \\\n",
            "0  Intercept  76301.155566   102.177226  66.856338  0.000000e+00   \n",
            "1  Feature_0   6831.195167    23.498093  -0.721108  4.708573e-01   \n",
            "2  Feature_1    -16.944673  6746.455365  -1.235475  2.166790e-01   \n",
            "3  Feature_2  -8335.074264  1058.463112   0.430353  6.669471e-01   \n",
            "4  Feature_3    455.512447  2985.376196  -0.422569  6.726176e-01   \n",
            "5  Feature_4  -1261.527464  3602.352700  -0.906283  3.648051e-01   \n",
            "6  Feature_5  -3264.749624  2427.654733   3.051245  2.284094e-03   \n",
            "7  Feature_6   7407.370490  2493.856758   3.268294  1.085129e-03   \n",
            "8  Feature_7   8150.657530  3132.647036   7.154603  8.897327e-13   \n",
            "9  Feature_8  22412.845023  3524.083191  21.651349  0.000000e+00   \n",
            "\n",
            "   95% CI Lower  95% CI Upper  \n",
            "0  76100.870974  76501.440157  \n",
            "1   6785.134943   6877.255392  \n",
            "2 -13241.134758  13207.245412  \n",
            "3 -10409.840439  -6260.308089  \n",
            "4  -5396.328284   6307.353179  \n",
            "5  -8322.746176   5799.691249  \n",
            "6  -8023.362245   1493.862998  \n",
            "7   2518.990736  12295.750244  \n",
            "8   2010.141121  14291.173939  \n",
            "9  15505.047746  29320.642300  \n"
          ]
        }
      ],
      "source": [
        "import pandas as pd\n",
        "from scipy.stats import t\n",
        "\n",
        "summary = lr_model.summary\n",
        "coefficients = lr_model.coefficients\n",
        "intercept = lr_model.intercept\n",
        "std_errors = summary.coefficientStandardErrors\n",
        "t_values = summary.tValues\n",
        "p_values = summary.pValues\n",
        "\n",
        "# Calculate degrees of freedom\n",
        "n = summary.numInstances\n",
        "p = len(coefficients)\n",
        "dof = n - p - 1\n",
        "\n",
        "# Critical t-value for 95% confidence interval (two-tailed)\n",
        "critical_value = t.ppf(0.975, dof)\n",
        "\n",
        "\n",
        "\n",
        "# Create DataFrame\n",
        "coef_df = pd.DataFrame({\n",
        "    \"Feature\": [\"Intercept\"] + [f\"Feature_{i}\" for i in range(p)],\n",
        "    \"Coefficient\": [intercept] + coefficients.tolist(),\n",
        "    \"Std Error\": std_errors,\n",
        "    \"t-value\": t_values,\n",
        "    \"p-value\": p_values\n",
        "})\n",
        "\n",
        "# Calculate confidence intervals\n",
        "coef_df[\"95% CI Lower\"] = coef_df[\"Coefficient\"] - critical_value * coef_df[\"Std Error\"]\n",
        "coef_df[\"95% CI Upper\"] = coef_df[\"Coefficient\"] + critical_value * coef_df[\"Std Error\"]\n",
        "\n",
        "print(coef_df)\n",
        "\n",
        "\n"
      ]
    },
    {
      "cell_type": "code",
      "execution_count": 87,
      "metadata": {},
      "outputs": [
        {
          "name": "stdout",
          "output_type": "stream",
          "text": [
            "                  Feature   Coefficient    Std Error    t-value       p-value  \\\n",
            "0               Intercept  76301.155566   102.177226  66.856338  0.000000e+00   \n",
            "1    MIN_YEARS_EXPERIENCE   6831.195167    23.498093  -0.721108  4.708573e-01   \n",
            "2                DURATION    -16.944673  6746.455365  -1.235475  2.166790e-01   \n",
            "3           IS_INTERNSHIP  -8335.074264  1058.463112   0.430353  6.669471e-01   \n",
            "4     COMPANY_IS_STAFFING    455.512447  2985.376196  -0.422569  6.726176e-01   \n",
            "5  EMPLOYMENT_TYPE_NAME_A  -1261.527464  3602.352700  -0.906283  3.648051e-01   \n",
            "6  EMPLOYMENT_TYPE_NAME_B  -3264.749624  2427.654733   3.051245  2.284094e-03   \n",
            "7      REMOTE_TYPE_NAME_X   7407.370490  2493.856758   3.268294  1.085129e-03   \n",
            "8      REMOTE_TYPE_NAME_Y   8150.657530  3132.647036   7.154603  8.897327e-13   \n",
            "9      REMOTE_TYPE_NAME_Z  22412.845023  3524.083191  21.651349  0.000000e+00   \n",
            "\n",
            "   95% CI Lower  95% CI Upper  \n",
            "0  76100.870974  76501.440157  \n",
            "1   6785.134943   6877.255392  \n",
            "2 -13241.134758  13207.245412  \n",
            "3 -10409.840439  -6260.308089  \n",
            "4  -5396.328284   6307.353179  \n",
            "5  -8322.746176   5799.691249  \n",
            "6  -8023.362245   1493.862998  \n",
            "7   2518.990736  12295.750244  \n",
            "8   2010.141121  14291.173939  \n",
            "9  15505.047746  29320.642300  \n"
          ]
        }
      ],
      "source": [
        "feature_names = [\n",
        "    \"MIN_YEARS_EXPERIENCE\",\n",
        "    \"DURATION\",\n",
        "    \"IS_INTERNSHIP\",\n",
        "    \"COMPANY_IS_STAFFING\",\n",
        "    # Add your categorical feature dummy variable names here, e.g.:\n",
        "    \"EMPLOYMENT_TYPE_NAME_A\",\n",
        "    \"EMPLOYMENT_TYPE_NAME_B\",\n",
        "    \"REMOTE_TYPE_NAME_X\",\n",
        "    \"REMOTE_TYPE_NAME_Y\",\n",
        "    \"REMOTE_TYPE_NAME_Z\"\n",
        "]\n",
        "\n",
        "coef_df = pd.DataFrame({\n",
        "    \"Feature\": [\"Intercept\"] + feature_names,\n",
        "    \"Coefficient\": [intercept] + coefficients.tolist(),\n",
        "    \"Std Error\": std_errors,\n",
        "    \"t-value\": t_values,\n",
        "    \"p-value\": p_values\n",
        "})\n",
        "\n",
        "# Calculate confidence intervals\n",
        "coef_df[\"95% CI Lower\"] = coef_df[\"Coefficient\"] - critical_value * coef_df[\"Std Error\"]\n",
        "coef_df[\"95% CI Upper\"] = coef_df[\"Coefficient\"] + critical_value * coef_df[\"Std Error\"]\n",
        "\n",
        "print(coef_df)"
      ]
    },
    {
      "cell_type": "markdown",
      "metadata": {},
      "source": [
        "# Polynomial Regression"
      ]
    },
    {
      "cell_type": "code",
      "execution_count": 80,
      "metadata": {},
      "outputs": [
        {
          "name": "stderr",
          "output_type": "stream",
          "text": [
            "25/10/03 18:17:33 WARN Instrumentation: [dcc39e83] regParam is zero, which might cause numerical instability and overfitting.\n",
            "                                                                                \r"
          ]
        }
      ],
      "source": [
        "from pyspark.ml.regression import LinearRegression\n",
        "\n",
        "# Creating Polynomial Regression Model\n",
        "lr_poly = LinearRegression(featuresCol=\"features_poly\", labelCol=\"SALARY\")\n",
        "\n",
        "\n",
        "#training the model\n",
        "lr_poly_model = lr_poly.fit(regression_train)\n",
        "\n"
      ]
    },
    {
      "cell_type": "code",
      "execution_count": 81,
      "metadata": {},
      "outputs": [
        {
          "name": "stderr",
          "output_type": "stream",
          "text": [
            "[Stage 93:>                                                         (0 + 1) / 1]\r"
          ]
        },
        {
          "name": "stdout",
          "output_type": "stream",
          "text": [
            "R²: 0.2999111042236341\n",
            "RMSE: 34800.97629236496\n",
            "MAE: 26815.734743406734\n",
            "Coefficients: [12321.424633194574,-410.81806941944365,-16.033371304985252,-4816.276067454366,-122.15434444725373,-4962.654169742263,-6422.5061156546435,6702.637628410731,7601.6311647419425,20955.03322404107]\n",
            "Intercept: 67481.20783767497\n"
          ]
        },
        {
          "name": "stderr",
          "output_type": "stream",
          "text": [
            "                                                                                \r"
          ]
        }
      ],
      "source": [
        "# Making Predictions\n",
        "predictions_poly = lr_poly_model.transform(regression_test)\n",
        "\n",
        "# Evaluate the Polynomial model\n",
        "evaluator_r2_poly = RegressionEvaluator(labelCol=\"SALARY\", predictionCol=\"prediction\", metricName=\"r2\")\n",
        "evaluator_rmse_poly = RegressionEvaluator(labelCol=\"SALARY\", predictionCol=\"prediction\", metricName=\"rmse\")\n",
        "evaluator_mae_poly = RegressionEvaluator(labelCol=\"SALARY\", predictionCol=\"prediction\", metricName=\"mae\")\n",
        "\n",
        "r2_poly = evaluator_r2_poly.evaluate(predictions_poly)\n",
        "rmse_poly = evaluator_rmse_poly.evaluate(predictions_poly)\n",
        "mae_poly = evaluator_mae_poly.evaluate(predictions_poly)\n",
        "\n",
        "print(f\"R²: {r2_poly}\")\n",
        "print(f\"RMSE: {rmse_poly}\")\n",
        "print(f\"MAE: {mae_poly}\")\n",
        "\n",
        "# Print coefficients and intercept for Polynomial Regression\n",
        "print(\"Coefficients:\", lr_poly_model.coefficients)\n",
        "print(\"Intercept:\", lr_poly_model.intercept)\n",
        "\n",
        "\n",
        "\n"
      ]
    },
    {
      "cell_type": "code",
      "execution_count": 82,
      "metadata": {},
      "outputs": [
        {
          "name": "stdout",
          "output_type": "stream",
          "text": [
            "      Feature   Coefficient    Std Error    t-value       p-value  \\\n",
            "0   Intercept  67481.207838   363.827753  33.866093  0.000000e+00   \n",
            "1   Feature_0  12321.424633    26.151749 -15.709009  0.000000e+00   \n",
            "2   Feature_1   -410.818069    23.252997  -0.689518  4.905108e-01   \n",
            "3   Feature_2    -16.033371  6679.822656  -0.721019  4.709126e-01   \n",
            "4   Feature_3  -4816.276067  1048.064896  -0.116552  9.072169e-01   \n",
            "5   Feature_4   -122.154344  2963.608208  -1.674531  9.405324e-02   \n",
            "6   Feature_5  -4962.654170  3570.430449  -1.798804  7.207562e-02   \n",
            "7   Feature_6  -6422.506116  2402.744508   2.789576  5.286330e-03   \n",
            "8   Feature_7   6702.637628  2468.084436   3.079972  2.075044e-03   \n",
            "9   Feature_8   7601.631165  3101.351134   6.756743  1.478861e-11   \n",
            "10  Feature_9  20955.033224  3532.222708  19.104460  0.000000e+00   \n",
            "\n",
            "    95% CI Lower  95% CI Upper  \n",
            "0   66768.044088  68194.371588  \n",
            "1   12270.162795  12372.686472  \n",
            "2    -456.397864   -365.238275  \n",
            "3  -13109.612230  13077.545488  \n",
            "4   -6870.660004  -2761.892131  \n",
            "5   -5931.326202   5687.017513  \n",
            "6  -11961.299950   2035.991611  \n",
            "7  -11132.290539  -1712.721693  \n",
            "8    1864.775927  11540.499329  \n",
            "9    1522.459945  13680.802384  \n",
            "10  14031.281059  27878.785389  \n"
          ]
        }
      ],
      "source": [
        "import pandas as pd\n",
        "from scipy.stats import t\n",
        "\n",
        "summary_poly = lr_poly_model.summary\n",
        "coefficients_poly = lr_poly_model.coefficients\n",
        "intercept_poly = lr_poly_model.intercept\n",
        "std_errors_poly = summary_poly.coefficientStandardErrors\n",
        "t_values_poly = summary_poly.tValues\n",
        "p_values_poly = summary_poly.pValues\n",
        "\n",
        "# Calculate degrees of freedom\n",
        "n_poly = summary_poly.numInstances\n",
        "p_poly = len(coefficients_poly)\n",
        "dof_poly = n_poly - p_poly - 1\n",
        "\n",
        "# Critical t-value for 95% confidence interval (two-tailed)\n",
        "critical_value_poly = t.ppf(0.975, dof_poly)\n",
        "\n",
        "\n",
        "\n",
        "# Create DataFrame\n",
        "coef_poly_df = pd.DataFrame({\n",
        "    \"Feature\": [\"Intercept\"] + [f\"Feature_{i}\" for i in range(p_poly)],\n",
        "    \"Coefficient\": [intercept_poly] + coefficients_poly.tolist(),\n",
        "    \"Std Error\": std_errors_poly,\n",
        "    \"t-value\": t_values_poly,\n",
        "    \"p-value\": p_values_poly\n",
        "})\n",
        "\n",
        "# Calculate confidence intervals\n",
        "coef_poly_df[\"95% CI Lower\"] = coef_poly_df[\"Coefficient\"] - critical_value_poly * coef_poly_df[\"Std Error\"]\n",
        "coef_poly_df[\"95% CI Upper\"] = coef_poly_df[\"Coefficient\"] + critical_value_poly * coef_poly_df[\"Std Error\"]    \n",
        "\n",
        "print(coef_poly_df)\n",
        "\n",
        "\n",
        "\n"
      ]
    },
    {
      "cell_type": "code",
      "execution_count": 86,
      "metadata": {},
      "outputs": [
        {
          "name": "stdout",
          "output_type": "stream",
          "text": [
            "                    Feature   Coefficient    Std Error    t-value  \\\n",
            "0                 Intercept  67481.207838   363.827753  33.866093   \n",
            "1      MIN_YEARS_EXPERIENCE  12321.424633    26.151749 -15.709009   \n",
            "2   MIN_YEARS_EXPERIENCE_SQ   -410.818069    23.252997  -0.689518   \n",
            "3                  DURATION    -16.033371  6679.822656  -0.721019   \n",
            "4             IS_INTERNSHIP  -4816.276067  1048.064896  -0.116552   \n",
            "5       COMPANY_IS_STAFFING   -122.154344  2963.608208  -1.674531   \n",
            "6    EMPLOYMENT_TYPE_NAME_A  -4962.654170  3570.430449  -1.798804   \n",
            "7    EMPLOYMENT_TYPE_NAME_B  -6422.506116  2402.744508   2.789576   \n",
            "8        REMOTE_TYPE_NAME_X   6702.637628  2468.084436   3.079972   \n",
            "9        REMOTE_TYPE_NAME_Y   7601.631165  3101.351134   6.756743   \n",
            "10       REMOTE_TYPE_NAME_Z  20955.033224  3532.222708  19.104460   \n",
            "\n",
            "         p-value  95% CI Lower  95% CI Upper  \n",
            "0   0.000000e+00  66768.044088  68194.371588  \n",
            "1   0.000000e+00  12270.162795  12372.686472  \n",
            "2   4.905108e-01   -456.397864   -365.238275  \n",
            "3   4.709126e-01 -13109.612230  13077.545488  \n",
            "4   9.072169e-01  -6870.660004  -2761.892131  \n",
            "5   9.405324e-02  -5931.326202   5687.017513  \n",
            "6   7.207562e-02 -11961.299950   2035.991611  \n",
            "7   5.286330e-03 -11132.290539  -1712.721693  \n",
            "8   2.075044e-03   1864.775927  11540.499329  \n",
            "9   1.478861e-11   1522.459945  13680.802384  \n",
            "10  0.000000e+00  14031.281059  27878.785389  \n"
          ]
        }
      ],
      "source": [
        "feature_names_poly = [\n",
        "    \"MIN_YEARS_EXPERIENCE\",\n",
        "    \"MIN_YEARS_EXPERIENCE_SQ\",\n",
        "    \"DURATION\",\n",
        "    \"IS_INTERNSHIP\",\n",
        "    \"COMPANY_IS_STAFFING\",\n",
        "    # For categorical column EMPLOYMENT_TYPE_NAME_vec, list categories manually\n",
        "    \"EMPLOYMENT_TYPE_NAME_A\",  # replace _A with actual category name\n",
        "    \"EMPLOYMENT_TYPE_NAME_B\",\n",
        "    # For categorical column REMOTE_TYPE_NAME_vec, list categories manually\n",
        "    \"REMOTE_TYPE_NAME_X\",\n",
        "    \"REMOTE_TYPE_NAME_Y\",\n",
        "    \"REMOTE_TYPE_NAME_Z\"\n",
        "]\n",
        "\n",
        "# Then build your DataFrame as before:\n",
        "coef_poly_df = pd.DataFrame({\n",
        "    \"Feature\": [\"Intercept\"] + feature_names_poly,\n",
        "    \"Coefficient\": [intercept_poly] + coefficients_poly.tolist(),\n",
        "    \"Std Error\": std_errors_poly,\n",
        "    \"t-value\": t_values_poly,\n",
        "    \"p-value\": p_values_poly\n",
        "})\n",
        "\n",
        "# Calculate confidence intervals\n",
        "coef_poly_df[\"95% CI Lower\"] = coef_poly_df[\"Coefficient\"] - critical_value_poly * coef_poly_df[\"Std Error\"]\n",
        "coef_poly_df[\"95% CI Upper\"] = coef_poly_df[\"Coefficient\"] + critical_value_poly * coef_poly_df[\"Std Error\"]\n",
        "\n",
        "print(coef_poly_df)"
      ]
    },
    {
      "cell_type": "markdown",
      "metadata": {},
      "source": []
    },
    {
      "cell_type": "markdown",
      "metadata": {},
      "source": [
        "# Missing Value Treatment\n",
        "\n",
        "1. Replace the missing values in Salary by Median of Salary based on the EMPLOYMENT_TYPE or EMPLOYMENT_TYPE_NAME. If both are missing, then use the overall median of Salary to replace it.\n",
        "\n"
      ]
    },
    {
      "cell_type": "code",
      "execution_count": 60,
      "metadata": {},
      "outputs": [
        {
          "name": "stderr",
          "output_type": "stream",
          "text": [
            "                                                                                \r"
          ]
        },
        {
          "name": "stdout",
          "output_type": "stream",
          "text": [
            "+--------------------+---------------+--------------------+-----------------+----------------------+----------+--------+---------+--------+--------------------+--------------------+--------------------+-----------+-------------------+--------------------+--------------------+---------------+----------------+--------+--------------------+-----------+-------------------+----------------+---------------------+-------------+-------------------+-------------+------------------+--------------------+--------------------+-------------+--------+-----------+----------------+-------------------+---------+-----------+--------------------+--------------------+-------------+------+--------------+-----+--------------------+-----+----------+---------------+--------------------+---------------+--------------------+------------+--------------------+------------+--------------------+------+--------------------+------+--------------------+------+--------------------+------+--------------------+------+--------------------+------------------+-------------------+--------------------+--------------------+--------------------+--------------------+-----------------------+--------------------+--------------------+--------------------+--------------------+--------------------+--------------------+----------+--------------------+----------+--------------------+--------------------+--------------------+--------------------+--------------------+--------------------+--------------------+----------+--------------------+----------+--------------------+----------+---------------+----------+---------------+---------------+--------------------+--------------+--------------------+--------------------------+-------------------------------+--------------------+-------------------------+-----------------------------+----------------------------------+-----------------+----------------------+-----------------------+----------------------------+------------------+-----------------------+-------+--------------------+-------+--------------------+-------+---------------+-------+---------------+-----------------+----------------------+------------+--------------------+------------+--------------------+------------+--------------------+------------+--------------------+------------+--------------------+----------------------+---------------------------+\n",
            "|EMPLOYMENT_TYPE_NAME|EMPLOYMENT_TYPE|                  ID|LAST_UPDATED_DATE|LAST_UPDATED_TIMESTAMP|DUPLICATES|  POSTED|  EXPIRED|DURATION|        SOURCE_TYPES|             SOURCES|                 URL|ACTIVE_URLS|ACTIVE_SOURCES_INFO|           TITLE_RAW|                BODY|MODELED_EXPIRED|MODELED_DURATION| COMPANY|        COMPANY_NAME|COMPANY_RAW|COMPANY_IS_STAFFING|EDUCATION_LEVELS|EDUCATION_LEVELS_NAME|MIN_EDULEVELS| MIN_EDULEVELS_NAME|MAX_EDULEVELS|MAX_EDULEVELS_NAME|MIN_YEARS_EXPERIENCE|MAX_YEARS_EXPERIENCE|IS_INTERNSHIP|  SALARY|REMOTE_TYPE|REMOTE_TYPE_NAME|ORIGINAL_PAY_PERIOD|SALARY_TO|SALARY_FROM|            LOCATION|                CITY|    CITY_NAME|COUNTY|   COUNTY_NAME|  MSA|            MSA_NAME|STATE|STATE_NAME|COUNTY_OUTGOING|COUNTY_NAME_OUTGOING|COUNTY_INCOMING|COUNTY_NAME_INCOMING|MSA_OUTGOING|   MSA_NAME_OUTGOING|MSA_INCOMING|   MSA_NAME_INCOMING|NAICS2|         NAICS2_NAME|NAICS3|         NAICS3_NAME|NAICS4|         NAICS4_NAME|NAICS5|         NAICS5_NAME|NAICS6|         NAICS6_NAME|             TITLE|         TITLE_NAME|         TITLE_CLEAN|              SKILLS|         SKILLS_NAME|  SPECIALIZED_SKILLS|SPECIALIZED_SKILLS_NAME|      CERTIFICATIONS| CERTIFICATIONS_NAME|       COMMON_SKILLS|  COMMON_SKILLS_NAME|     SOFTWARE_SKILLS|SOFTWARE_SKILLS_NAME|      ONET|           ONET_NAME| ONET_2019|      ONET_2019_NAME|                CIP6|           CIP6_NAME|                CIP4|           CIP4_NAME|                CIP2|           CIP2_NAME|SOC_2021_2|     SOC_2021_2_NAME|SOC_2021_3|     SOC_2021_3_NAME|SOC_2021_4|SOC_2021_4_NAME|SOC_2021_5|SOC_2021_5_NAME|LOT_CAREER_AREA|LOT_CAREER_AREA_NAME|LOT_OCCUPATION| LOT_OCCUPATION_NAME|LOT_SPECIALIZED_OCCUPATION|LOT_SPECIALIZED_OCCUPATION_NAME|LOT_OCCUPATION_GROUP|LOT_OCCUPATION_GROUP_NAME|LOT_V6_SPECIALIZED_OCCUPATION|LOT_V6_SPECIALIZED_OCCUPATION_NAME|LOT_V6_OCCUPATION|LOT_V6_OCCUPATION_NAME|LOT_V6_OCCUPATION_GROUP|LOT_V6_OCCUPATION_GROUP_NAME|LOT_V6_CAREER_AREA|LOT_V6_CAREER_AREA_NAME|  SOC_2|          SOC_2_NAME|  SOC_3|          SOC_3_NAME|  SOC_4|     SOC_4_NAME|  SOC_5|     SOC_5_NAME|LIGHTCAST_SECTORS|LIGHTCAST_SECTORS_NAME|NAICS_2022_2|   NAICS_2022_2_NAME|NAICS_2022_3|   NAICS_2022_3_NAME|NAICS_2022_4|   NAICS_2022_4_NAME|NAICS_2022_5|   NAICS_2022_5_NAME|NAICS_2022_6|   NAICS_2022_6_NAME|median_salary_emp_type|median_salary_emp_type_name|\n",
            "+--------------------+---------------+--------------------+-----------------+----------------------+----------+--------+---------+--------+--------------------+--------------------+--------------------+-----------+-------------------+--------------------+--------------------+---------------+----------------+--------+--------------------+-----------+-------------------+----------------+---------------------+-------------+-------------------+-------------+------------------+--------------------+--------------------+-------------+--------+-----------+----------------+-------------------+---------+-----------+--------------------+--------------------+-------------+------+--------------+-----+--------------------+-----+----------+---------------+--------------------+---------------+--------------------+------------+--------------------+------------+--------------------+------+--------------------+------+--------------------+------+--------------------+------+--------------------+------+--------------------+------------------+-------------------+--------------------+--------------------+--------------------+--------------------+-----------------------+--------------------+--------------------+--------------------+--------------------+--------------------+--------------------+----------+--------------------+----------+--------------------+--------------------+--------------------+--------------------+--------------------+--------------------+--------------------+----------+--------------------+----------+--------------------+----------+---------------+----------+---------------+---------------+--------------------+--------------+--------------------+--------------------------+-------------------------------+--------------------+-------------------------+-----------------------------+----------------------------------+-----------------+----------------------+-----------------------+----------------------------+------------------+-----------------------+-------+--------------------+-------+--------------------+-------+---------------+-------+---------------+-----------------+----------------------+------------+--------------------+------------+--------------------+------------+--------------------+------------+--------------------+------------+--------------------+----------------------+---------------------------+\n",
            "|Part-time / full-...|              3|cb5ca25f02bdf25c1...|        6/19/2024|   2024-06-19 07:00:00|         0|6/2/2024|6/17/2024|      15|[\\n  \"FreeJobBoar...|[\\n  \"craigslist....|[\\n  \"https://mod...|         []|               NULL|Comisiones de $10...|Comisiones de $10...|      6/17/2024|              15|       0|        Unclassified|      LH/GM|              false|      [\\n  99\\n]| [\\n  \"No Educatio...|           99|No Education Listed|         NULL|              NULL|                NULL|                NULL|        false| 92500.0|          0|          [None]|               year|   150000|      35000|{\\n  \"lat\": 37.63...|    TW9kZXN0bywgQ0E=|  Modesto, CA|  6099|Stanislaus, CA|33700|         Modesto, CA|    6|California|           6099|      Stanislaus, CA|           6099|      Stanislaus, CA|       33700|         Modesto, CA|       33700|         Modesto, CA|    99|Unclassified Indu...|   999|Unclassified Indu...|  9999|Unclassified Indu...| 99999|Unclassified Indu...|999999|Unclassified Indu...|ET0000000000000000|       Unclassified|comisiones de por...|                  []|                  []|                  []|                     []|                  []|                  []|                  []|                  []|                  []|                  []|15-2051.01|Business Intellig...|15-2051.01|Business Intellig...|                  []|                  []|                  []|                  []|                  []|                  []|   15-0000|Computer and Math...|   15-2000|Mathematical Scie...|   15-2050|Data Scientists|   15-2051|Data Scientists|             23|Information Techn...|        231010|Business Intellig...|                  23101012|           Oracle Consultant...|                2310|     Business Intellig...|                     23101012|              Oracle Consultant...|           231010|  Business Intellig...|                   2310|        Business Intellig...|                23|   Information Techn...|15-0000|Computer and Math...|15-2000|Mathematical Scie...|15-2050|Data Scientists|15-2051|Data Scientists|             NULL|                  NULL|          99|Unclassified Indu...|         999|Unclassified Indu...|        9999|Unclassified Indu...|       99999|Unclassified Indu...|      999999|Unclassified Indu...|                100000|                     100000|\n",
            "|Full-time (> 32 h...|              1|1f57d95acf4dc67ed...|         9/6/2024|  2024-09-06 20:32:...|         0|6/2/2024| 6/8/2024|       6|   [\\n  \"Company\"\\n]|[\\n  \"brassring.c...|[\\n  \"https://sjo...|         []|               NULL|Enterprise Analys...|31-May-2024\\n\\nEn...|       6/8/2024|               6|  894731|          Murphy USA| Murphy USA|              false|       [\\n  2\\n]| [\\n  \"Bachelor's ...|            2|  Bachelor's degree|         NULL|              NULL|                   2|                   2|        false|116500.0|          0|          [None]|               NULL|     NULL|       NULL|{\\n  \"lat\": 33.20...|RWwgRG9yYWRvLCBBUg==|El Dorado, AR|  5139|     Union, AR|20980|       El Dorado, AR|    5|  Arkansas|           5139|           Union, AR|           5139|           Union, AR|       20980|       El Dorado, AR|       20980|       El Dorado, AR|    44|        Retail Trade|   441|Motor Vehicle and...|  4413|Automotive Parts,...| 44133|Automotive Parts ...|441330|Automotive Parts ...|ET29C073C03D1F86B4|Enterprise Analysts|enterprise analys...|[\\n  \"KS126DB6T06...|[\\n  \"Merchandisi...|[\\n  \"KS126DB6T06...|   [\\n  \"Merchandisi...|                  []|                  []|[\\n  \"KS126706DPF...|[\\n  \"Mathematics...|[\\n  \"KS440W865GC...|[\\n  \"SQL (Progra...|15-2051.01|Business Intellig...|15-2051.01|Business Intellig...|[\\n  \"45.0601\",\\n...|[\\n  \"Economics, ...|[\\n  \"45.06\",\\n  ...|[\\n  \"Economics\",...|[\\n  \"45\",\\n  \"27...|[\\n  \"Social Scie...|   15-0000|Computer and Math...|   15-2000|Mathematical Scie...|   15-2050|Data Scientists|   15-2051|Data Scientists|             23|Information Techn...|        231010|Business Intellig...|                  23101011|           General ERP Analy...|                2310|     Business Intellig...|                     23101011|              General ERP Analy...|           231010|  Business Intellig...|                   2310|        Business Intellig...|                23|   Information Techn...|15-0000|Computer and Math...|15-2000|Mathematical Scie...|15-2050|Data Scientists|15-2051|Data Scientists|        [\\n  7\\n]|  [\\n  \"Artificial ...|          44|        Retail Trade|         441|Motor Vehicle and...|        4413|Automotive Parts,...|       44133|Automotive Parts ...|      441330|Automotive Parts ...|                116500|                     116500|\n",
            "|Full-time (> 32 h...|              1|0cb072af26757b6c4...|         8/2/2024|  2024-08-02 17:08:...|         0|6/2/2024| 8/1/2024|    NULL| [\\n  \"Job Board\"\\n]| [\\n  \"maine.gov\"\\n]|[\\n  \"https://job...|         []|               NULL|Oracle Consultant...|Oracle Consultant...|       8/1/2024|            NULL|  133098|Smx Corporation L...|        SMX|               true|      [\\n  99\\n]| [\\n  \"No Educatio...|           99|No Education Listed|         NULL|              NULL|                   3|                   3|        false|116500.0|          1|          Remote|               NULL|     NULL|       NULL|{\\n  \"lat\": 44.31...|    QXVndXN0YSwgTUU=|  Augusta, ME| 23011|  Kennebec, ME|12300|Augusta-Watervill...|   23|     Maine|          23011|        Kennebec, ME|          23011|        Kennebec, ME|       12300|Augusta-Watervill...|       12300|Augusta-Watervill...|    56|Administrative an...|   561|Administrative an...|  5613| Employment Services| 56132|Temporary Help Se...|561320|Temporary Help Se...|ET21DDA63780A7DC09| Oracle Consultants|oracle consultant...|[\\n  \"KS122626T55...|[\\n  \"Procurement...|[\\n  \"KS122626T55...|   [\\n  \"Procurement...|                  []|                  []|                  []|                  []|[\\n  \"BGSBF3F508F...|[\\n  \"Oracle Busi...|15-2051.01|Business Intellig...|15-2051.01|Business Intellig...|                  []|                  []|                  []|                  []|                  []|                  []|   15-0000|Computer and Math...|   15-2000|Mathematical Scie...|   15-2050|Data Scientists|   15-2051|Data Scientists|             23|Information Techn...|        231010|Business Intellig...|                  23101012|           Oracle Consultant...|                2310|     Business Intellig...|                     23101012|              Oracle Consultant...|           231010|  Business Intellig...|                   2310|        Business Intellig...|                23|   Information Techn...|15-0000|Computer and Math...|15-2000|Mathematical Scie...|15-2050|Data Scientists|15-2051|Data Scientists|             NULL|                  NULL|          56|Administrative an...|         561|Administrative an...|        5613| Employment Services|       56132|Temporary Help Se...|      561320|Temporary Help Se...|                116500|                     116500|\n",
            "|Full-time (> 32 h...|              1|85318b12b3331fa49...|         9/6/2024|  2024-09-06 20:32:...|         1|6/2/2024| 7/7/2024|      35| [\\n  \"Job Board\"\\n]|[\\n  \"dejobs.org\"\\n]|[\\n  \"https://dej...|         []|               NULL|        Data Analyst|Taking care of pe...|      6/10/2024|               8|39063746|            Sedgwick|   Sedgwick|              false|       [\\n  2\\n]| [\\n  \"Bachelor's ...|            2|  Bachelor's degree|         NULL|              NULL|                   5|                NULL|        false|116500.0|          0|          [None]|               NULL|     NULL|       NULL|{\\n  \"lat\": 32.77...|    RGFsbGFzLCBUWA==|   Dallas, TX| 48113|    Dallas, TX|19100|Dallas-Fort Worth...|   48|     Texas|          48113|          Dallas, TX|          48113|          Dallas, TX|       19100|Dallas-Fort Worth...|       19100|Dallas-Fort Worth...|    52|Finance and Insur...|   524|Insurance Carrier...|  5242|Agencies, Brokera...| 52429|Other Insurance R...|524291|    Claims Adjusting|ET3037E0C947A02404|      Data Analysts|        data analyst|[\\n  \"KS1218W78FG...|[\\n  \"Management\"...|[\\n  \"ESF3939CE1F...|   [\\n  \"Exception R...|[\\n  \"KS683TN76T7...|[\\n  \"Security Cl...|[\\n  \"KS1218W78FG...|[\\n  \"Management\"...|[\\n  \"KS126HY6YLT...|[\\n  \"Microsoft O...|15-2051.01|Business Intellig...|15-2051.01|Business Intellig...|                  []|                  []|                  []|                  []|                  []|                  []|   15-0000|Computer and Math...|   15-2000|Mathematical Scie...|   15-2050|Data Scientists|   15-2051|Data Scientists|             23|Information Techn...|        231113|Data / Data Minin...|                  23111310|                   Data Analyst|                2311|     Data Analysis and...|                     23111310|                      Data Analyst|           231113|  Data / Data Minin...|                   2311|        Data Analysis and...|                23|   Information Techn...|15-0000|Computer and Math...|15-2000|Mathematical Scie...|15-2050|Data Scientists|15-2051|Data Scientists|             NULL|                  NULL|          52|Finance and Insur...|         524|Insurance Carrier...|        5242|Agencies, Brokera...|       52429|Other Insurance R...|      524291|    Claims Adjusting|                116500|                     116500|\n",
            "|Full-time (> 32 h...|              1|1b5c3941e54a1889e...|         9/6/2024|  2024-09-06 20:32:...|         1|6/2/2024|7/20/2024|      48| [\\n  \"Job Board\"\\n]|[\\n  \"disabledper...|[\\n  \"https://www...|         []|               NULL|Sr. Lead Data Mgm...|About this role:\\...|      6/12/2024|              10|37615159|         Wells Fargo|Wells Fargo|              false|      [\\n  99\\n]| [\\n  \"No Educatio...|           99|No Education Listed|         NULL|              NULL|                   3|                NULL|        false|116500.0|          0|          [None]|               NULL|     NULL|       NULL|{\\n  \"lat\": 33.44...|    UGhvZW5peCwgQVo=|  Phoenix, AZ|  4013|  Maricopa, AZ|38060|Phoenix-Mesa-Chan...|    4|   Arizona|           4013|        Maricopa, AZ|           4013|        Maricopa, AZ|       38060|Phoenix-Mesa-Chan...|       38060|Phoenix-Mesa-Chan...|    52|Finance and Insur...|   522|Credit Intermedia...|  5221|Depository Credit...| 52211|  Commercial Banking|522110|  Commercial Banking|ET2114E0404BA30075|Management Analysts|sr lead data mgmt...|[\\n  \"KS123QX62QY...|[\\n  \"Exit Strate...|[\\n  \"KS123QX62QY...|   [\\n  \"Exit Strate...|                  []|                  []|[\\n  \"KS7G6NP6R6L...|[\\n  \"Reliability...|[\\n  \"KS4409D76NW...|[\\n  \"SAS (Softwa...|15-2051.01|Business Intellig...|15-2051.01|Business Intellig...|                  []|                  []|                  []|                  []|                  []|                  []|   15-0000|Computer and Math...|   15-2000|Mathematical Scie...|   15-2050|Data Scientists|   15-2051|Data Scientists|             23|Information Techn...|        231113|Data / Data Minin...|                  23111310|                   Data Analyst|                2311|     Data Analysis and...|                     23111310|                      Data Analyst|           231113|  Data / Data Minin...|                   2311|        Data Analysis and...|                23|   Information Techn...|15-0000|Computer and Math...|15-2000|Mathematical Scie...|15-2050|Data Scientists|15-2051|Data Scientists|        [\\n  6\\n]|  [\\n  \"Data Privac...|          52|Finance and Insur...|         522|Credit Intermedia...|        5221|Depository Credit...|       52211|  Commercial Banking|      522110|  Commercial Banking|                116500|                     116500|\n",
            "+--------------------+---------------+--------------------+-----------------+----------------------+----------+--------+---------+--------+--------------------+--------------------+--------------------+-----------+-------------------+--------------------+--------------------+---------------+----------------+--------+--------------------+-----------+-------------------+----------------+---------------------+-------------+-------------------+-------------+------------------+--------------------+--------------------+-------------+--------+-----------+----------------+-------------------+---------+-----------+--------------------+--------------------+-------------+------+--------------+-----+--------------------+-----+----------+---------------+--------------------+---------------+--------------------+------------+--------------------+------------+--------------------+------+--------------------+------+--------------------+------+--------------------+------+--------------------+------+--------------------+------------------+-------------------+--------------------+--------------------+--------------------+--------------------+-----------------------+--------------------+--------------------+--------------------+--------------------+--------------------+--------------------+----------+--------------------+----------+--------------------+--------------------+--------------------+--------------------+--------------------+--------------------+--------------------+----------+--------------------+----------+--------------------+----------+---------------+----------+---------------+---------------+--------------------+--------------+--------------------+--------------------------+-------------------------------+--------------------+-------------------------+-----------------------------+----------------------------------+-----------------+----------------------+-----------------------+----------------------------+------------------+-----------------------+-------+--------------------+-------+--------------------+-------+---------------+-------+---------------+-----------------+----------------------+------------+--------------------+------------+--------------------+------------+--------------------+------------+--------------------+------------+--------------------+----------------------+---------------------------+\n",
            "only showing top 5 rows\n"
          ]
        }
      ],
      "source": [
        "# Missing Value Treatment\n",
        "from pyspark.sql.functions import col, when, isnan, count\n",
        "\n",
        "# 1. Replace the missing values in Salary by Median of Salary based on the EMPLOYMENT_TYPE or EMPLOYMENT_TYPE_NAME. If both are missing, then use the overall median of Salary to replace it.\n",
        "\n",
        "from pyspark.sql import Window\n",
        "from pyspark.sql.functions import col, when, isnan, count, expr, median\n",
        "from pyspark.sql import functions as F\n",
        "\n",
        "# Calculate overall median salary\n",
        "overall_median_salarly = df.approxQuantile(\"SALARY\", [0.5], 0.01)[0]\n",
        "\n",
        "median_by_employment_type = df.groupBy(\"EMPLOYMENT_TYPE\").agg(expr(\"percentile_approx(SALARY, 0.5)\").alias(\"median_salary_emp_type\"))\n",
        "median_by_employment_type_name = df.groupBy(\"EMPLOYMENT_TYPE_NAME\").agg(expr(\"percentile_approx(SALARY, 0.5)\").alias(\"median_salary_emp_type_name\"))\n",
        "\n",
        "# Join median values back to the original dataframe\n",
        "df_salary_imputed = df.join(median_by_employment_type, on=\"EMPLOYMENT_TYPE\", how = \"left\").join(median_by_employment_type_name, on=\"EMPLOYMENT_TYPE_NAME\", how = \"left\")\n",
        "\n",
        "\n",
        "# Replace missing SALARY values\n",
        "df_salary_imputed=df_salary_imputed.withColumn(\"SALARY\", when(col(\"SALARY\").isNull(), \n",
        "                                when (col(\"median_salary_emp_type\").isNotNull(), col(\"median_salary_emp_type\"))\n",
        "                                .when(col(\"median_salary_emp_type_name\").isNotNull(), col(\"median_salary_emp_type_name\"))\n",
        "                                .otherwise(overall_median_salarly)\n",
        ").otherwise(col(\"SALARY\"))) \n",
        "\n",
        "\n",
        "df_salary_imputed.show(5)"
      ]
    },
    {
      "cell_type": "code",
      "execution_count": 61,
      "metadata": {},
      "outputs": [
        {
          "name": "stderr",
          "output_type": "stream",
          "text": [
            "[Stage 731:>                (0 + 1) / 1][Stage 732:>                (0 + 1) / 1]\r"
          ]
        },
        {
          "name": "stdout",
          "output_type": "stream",
          "text": [
            "+--------+--------------------+--------------------+-----------------------------+----------------------+----------------+--------+-------------+-------------------+----------------------+---------------------------+\n",
            "|SALARY  |MIN_YEARS_EXPERIENCE|MAX_YEARS_EXPERIENCE|EDUCATION_LEVELS_NAME        |EMPLOYMENT_TYPE_NAME  |REMOTE_TYPE_NAME|DURATION|IS_INTERNSHIP|COMPANY_IS_STAFFING|median_salary_emp_type|median_salary_emp_type_name|\n",
            "+--------+--------------------+--------------------+-----------------------------+----------------------+----------------+--------+-------------+-------------------+----------------------+---------------------------+\n",
            "|116500.0|2                   |2                   |[\\n  \"Bachelor's degree\"\\n]  |Full-time (> 32 hours)|[None]          |6       |0            |0                  |116500                |116500                     |\n",
            "|116500.0|7                   |7                   |[\\n  \"No Education Listed\"\\n]|Full-time (> 32 hours)|[None]          |18      |0            |1                  |116500                |116500                     |\n",
            "|116500.0|1                   |1                   |[\\n  \"No Education Listed\"\\n]|Full-time (> 32 hours)|[None]          |8       |0            |1                  |116500                |116500                     |\n",
            "|116500.0|1                   |1                   |[\\n  \"Bachelor's degree\"\\n]  |Full-time (> 32 hours)|[None]          |32      |0            |0                  |116500                |116500                     |\n",
            "|131100.0|2                   |2                   |[\\n  \"Bachelor's degree\"\\n]  |Full-time (> 32 hours)|[None]          |11      |0            |0                  |116500                |116500                     |\n",
            "+--------+--------------------+--------------------+-----------------------------+----------------------+----------------+--------+-------------+-------------------+----------------------+---------------------------+\n",
            "only showing top 5 rows\n"
          ]
        },
        {
          "name": "stderr",
          "output_type": "stream",
          "text": [
            "                                                                                \r"
          ]
        }
      ],
      "source": [
        "#|eval: true\n",
        "#|echo: false\n",
        "#| fig-align: center\n",
        "\n",
        "from pyspark.sql.functions import col, pow\n",
        "from pyspark.ml.feature import StringIndexer, VectorAssembler, OneHotEncoder\n",
        "from pyspark.ml import Pipeline\n",
        "from pyspark.sql.types import IntegerType, BooleanType, StringType\n",
        "\n",
        "# Drop Rows from Relevant Columns\n",
        "regression_df = df_salary_imputed.dropna(subset=[\"SALARY\", \"MIN_YEARS_EXPERIENCE\", \"MAX_YEARS_EXPERIENCE\", \"EDUCATION_LEVELS_NAME\", \"EMPLOYMENT_TYPE_NAME\", \"REMOTE_TYPE_NAME\", \"DURATION\", \"IS_INTERNSHIP\", \"COMPANY_IS_STAFFING\",  \"median_salary_emp_type\", \"median_salary_emp_type_name\"\n",
        "    ]).select(\"SALARY\", \"MIN_YEARS_EXPERIENCE\", \"MAX_YEARS_EXPERIENCE\", \"EDUCATION_LEVELS_NAME\", \"EMPLOYMENT_TYPE_NAME\", \"REMOTE_TYPE_NAME\", \"DURATION\", \"IS_INTERNSHIP\", \"COMPANY_IS_STAFFING\", \"median_salary_emp_type\", \"median_salary_emp_type_name\")\n",
        "\n",
        "# Categorical Columns\n",
        "categorical_cols = [\"EDUCATION_LEVELS_NAME\", \"EMPLOYMENT_TYPE_NAME\", \"REMOTE_TYPE_NAME\", \"DURATION\", \"IS_INTERNSHIP\", \"COMPANY_IS_STAFFING\"  \n",
        "    \n",
        "    \n",
        "]\n",
        "\n",
        "regression_df = regression_df.withColumn(\"IS_INTERNSHIP\", col(\"IS_INTERNSHIP\").cast(IntegerType()))\n",
        "regression_df = regression_df.withColumn(\"COMPANY_IS_STAFFING\", col(\"COMPANY_IS_STAFFING\").cast(IntegerType()))\n",
        "regression_df.show(5, truncate=False)\n",
        "\n"
      ]
    },
    {
      "cell_type": "code",
      "execution_count": 62,
      "metadata": {},
      "outputs": [
        {
          "name": "stderr",
          "output_type": "stream",
          "text": [
            "                                                                                \r"
          ]
        },
        {
          "name": "stdout",
          "output_type": "stream",
          "text": [
            "+--------+--------------------------------------------------------------------+\n",
            "|SALARY  |features                                                            |\n",
            "+--------+--------------------------------------------------------------------+\n",
            "|116500.0|(89,[0,1,2,5,23,25,40,87,88],[2.0,2.0,6.0,1.0,1.0,1.0,1.0,1.0,1.0]) |\n",
            "|116500.0|(89,[0,1,2,4,6,23,25,52,87],[7.0,7.0,18.0,1.0,1.0,1.0,1.0,1.0,1.0]) |\n",
            "|116500.0|(89,[0,1,2,4,6,23,25,31,87],[1.0,1.0,8.0,1.0,1.0,1.0,1.0,1.0,1.0])  |\n",
            "|116500.0|(89,[0,1,2,5,23,25,39,87,88],[1.0,1.0,32.0,1.0,1.0,1.0,1.0,1.0,1.0])|\n",
            "|131100.0|(89,[0,1,2,5,23,25,28,87,88],[2.0,2.0,11.0,1.0,1.0,1.0,1.0,1.0,1.0])|\n",
            "+--------+--------------------------------------------------------------------+\n",
            "only showing top 5 rows\n"
          ]
        }
      ],
      "source": [
        "# Clean Education Levels by cleaning \\n and array brackets\n",
        "from pyspark.sql.functions import regexp_replace, trim\n",
        "regression_df = regression_df.withColumn(\"EDUCATION_LEVELS_NAME\", trim(regexp_replace(col(\"EDUCATION_LEVELS_NAME\"), r\"[\\[\\]\\n']\", \"\")))\n",
        "\n",
        "\n",
        "# Index and One-Hot Encode\n",
        "indexers = [StringIndexer(inputCol=col, outputCol=f\"{col}_idx\", handleInvalid=\"skip\") for col in categorical_cols]\n",
        "encoders = [OneHotEncoder(inputCol=f\"{col}_idx\", outputCol=f\"{col}_vec\") for col in categorical_cols]\n",
        "\n",
        "#Assemble base features\n",
        "assembler = VectorAssembler(inputCols=[\"MIN_YEARS_EXPERIENCE\", \"MAX_YEARS_EXPERIENCE\", \"DURATION\", \"IS_INTERNSHIP\", \"COMPANY_IS_STAFFING\"] + [f\"{col}_vec\" for col in categorical_cols], outputCol=\"features\")\n",
        "\n",
        "\n",
        "pipeline = Pipeline(stages=indexers + encoders + [assembler])\n",
        "regression_data =  pipeline.fit(regression_df).transform(regression_df)\n",
        "regression_data.select(\"SALARY\",\"features\").show(5, truncate=False)\n",
        "# regression_df.show(5, truncate=False)"
      ]
    },
    {
      "cell_type": "markdown",
      "metadata": {},
      "source": [
        "Train and Split"
      ]
    },
    {
      "cell_type": "code",
      "execution_count": 63,
      "metadata": {},
      "outputs": [
        {
          "name": "stderr",
          "output_type": "stream",
          "text": [
            "                                                                                \r"
          ]
        },
        {
          "name": "stdout",
          "output_type": "stream",
          "text": [
            "(5039, 24)\n"
          ]
        },
        {
          "name": "stderr",
          "output_type": "stream",
          "text": [
            "                                                                                \r"
          ]
        },
        {
          "name": "stdout",
          "output_type": "stream",
          "text": [
            "(4070, 24)\n"
          ]
        },
        {
          "name": "stderr",
          "output_type": "stream",
          "text": [
            "[Stage 853:>                                                        (0 + 1) / 1]\r"
          ]
        },
        {
          "name": "stdout",
          "output_type": "stream",
          "text": [
            "(969, 24)\n"
          ]
        },
        {
          "name": "stderr",
          "output_type": "stream",
          "text": [
            "                                                                                \r"
          ]
        }
      ],
      "source": [
        "#| eval: true\n",
        "#| echo: false\n",
        "#| fig-align: center\n",
        "\n",
        "# Split Data\n",
        "regression_train, regression_test = regression_data.randomSplit([0.8, 0.2], seed=42)\n",
        "print((regression_data.count(), len(regression_data.columns)))\n",
        "print((regression_train.count(), len(regression_test.columns)))\n",
        "print((regression_test.count(), len(regression_test.columns)))\n"
      ]
    }
  ],
  "metadata": {
    "kernelspec": {
      "display_name": ".venv",
      "language": "python",
      "name": "python3"
    },
    "language_info": {
      "codemirror_mode": {
        "name": "ipython",
        "version": 3
      },
      "file_extension": ".py",
      "mimetype": "text/x-python",
      "name": "python",
      "nbconvert_exporter": "python",
      "pygments_lexer": "ipython3",
      "version": "3.12.3"
    }
  },
  "nbformat": 4,
  "nbformat_minor": 4
}
